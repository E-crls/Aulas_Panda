{
  "nbformat": 4,
  "nbformat_minor": 0,
  "metadata": {
    "colab": {
      "provenance": [],
      "authorship_tag": "ABX9TyMV5Gv6Ipj92zS8s3gwZN9e",
      "include_colab_link": true
    },
    "kernelspec": {
      "name": "python3",
      "display_name": "Python 3"
    },
    "language_info": {
      "name": "python"
    }
  },
  "cells": [
    {
      "cell_type": "markdown",
      "metadata": {
        "id": "view-in-github",
        "colab_type": "text"
      },
      "source": [
        "<a href=\"https://colab.research.google.com/github/E-crls/Aulas_Panda/blob/main/atividade_lista.ipynb\" target=\"_parent\"><img src=\"https://colab.research.google.com/assets/colab-badge.svg\" alt=\"Open In Colab\"/></a>"
      ]
    },
    {
      "cell_type": "markdown",
      "source": [
        "Questão 1"
      ],
      "metadata": {
        "id": "sf8lEAhQp5mK"
      }
    },
    {
      "cell_type": "code",
      "source": [
        "class circulo:\n",
        "  def __init__(self, raio):\n",
        "    self.raio = raio\n",
        "\n",
        "  def calc(self):\n",
        "    print(3.14*(self.raio*self.raio))\n",
        "\n",
        "i = int(input(\"Digite o valor do raio: \"))\n",
        "c = circulo(i)\n",
        "c.calc()"
      ],
      "metadata": {
        "colab": {
          "base_uri": "https://localhost:8080/"
        },
        "id": "3-kysVAQp8k8",
        "outputId": "afe11267-278e-4caa-d92d-36fc99ae5a3f"
      },
      "execution_count": null,
      "outputs": [
        {
          "output_type": "stream",
          "name": "stdout",
          "text": [
            "Digite o valor do raio: 5\n",
            "78.5\n"
          ]
        }
      ]
    },
    {
      "cell_type": "markdown",
      "source": [
        "Questão 2"
      ],
      "metadata": {
        "id": "0_cL4l-ZrDir"
      }
    },
    {
      "cell_type": "code",
      "source": [
        "class salario:\n",
        "  def __init__(self, hora, trab):\n",
        "    self.hora = hora\n",
        "    self.trab = trab\n",
        "  def calc(self):\n",
        "    print(\"Total do salário: {}\".format(self.hora*self.trab))\n",
        "\n",
        "i = int(input(\"Quanto você ganha por hora? \"))\n",
        "u = int(input(\"Quantas horas por mês você trabalha? \"))\n",
        "s = salario(u, i)\n",
        "s.calc()"
      ],
      "metadata": {
        "colab": {
          "base_uri": "https://localhost:8080/"
        },
        "id": "pb1R6TMkrFUx",
        "outputId": "d089fb41-e7e3-404b-d41d-1b65cfccc2aa"
      },
      "execution_count": null,
      "outputs": [
        {
          "output_type": "stream",
          "name": "stdout",
          "text": [
            "Quanto você ganha por hora? 5\n",
            "Quantas horas por dia vocÊ trabalha? 5\n",
            "Total do salário: 25\n"
          ]
        }
      ]
    },
    {
      "cell_type": "markdown",
      "source": [
        "Questão 3"
      ],
      "metadata": {
        "id": "VTJnT2gbtrwo"
      }
    },
    {
      "cell_type": "code",
      "source": [
        "class alg:\n",
        "  sexo = ''\n",
        "  def __init__(self, sexo, altura, peso):\n",
        "    self.sexo = sexo\n",
        "    self.altura = altura\n",
        "    self.peso =peso\n",
        "    self.m = ((72.7*self.altura) - 58)\n",
        "    self.f = ((62.1*self.altura) - 44.7)\n",
        "  def calc(self):\n",
        "    if self.sexo == 'f' or self.sexo =='F':\n",
        "      print(\"Seu peso ideal é: {}\".format(self.f))\n",
        "      if self.peso > self.f:\n",
        "        print(\"Você está gooooooooooorda\")\n",
        "      elif self.peso < self.f:\n",
        "        print(\"Abaixo do peso\")\n",
        "    elif self.sexo == 'm' or self.sexo == 'M':\n",
        "      print(\"Seu peso ideal é: {}\".format(self.m))\n",
        "      if self.peso > self.m:\n",
        "        print(\"Você está gooooooooooordo\")\n",
        "      elif self.peso < self.m:\n",
        "        print(\"Abaixo do peso\")\n",
        "    else:\n",
        "      print(\"Sexo inválido.\")\n",
        "s = input(\"digite seu sexo. M para homem F para mulher: \")\n",
        "k = float(input(\"digite sua altura em metros: \"))\n",
        "p2 = float(input(\"digite seu peso em kg: \"))\n",
        "p = alg(s, k, p2)\n",
        "p.calc()"
      ],
      "metadata": {
        "colab": {
          "base_uri": "https://localhost:8080/"
        },
        "id": "sqqUeTvKtt-Y",
        "outputId": "96c4fc7e-1803-475b-c711-dcce0f5917d7"
      },
      "execution_count": null,
      "outputs": [
        {
          "output_type": "stream",
          "name": "stdout",
          "text": [
            "digite seu sexo. M para homem F para mulher: m\n",
            "digite sua altura em metros: 1.83\n",
            "digite seu peso em kg: 72\n",
            "Seu peso ideal é: 75.041\n",
            "Abaixo do peso\n"
          ]
        }
      ]
    },
    {
      "cell_type": "markdown",
      "source": [
        "Questão 4"
      ],
      "metadata": {
        "id": "aPv03-LSyvnr"
      }
    },
    {
      "cell_type": "code",
      "source": [
        "class salario:\n",
        "  x =0.0\n",
        "  def __init__(self, hora, trab):\n",
        "    self.hora = hora\n",
        "    self.trab = trab\n",
        "    self.x = self.hora*self.trab\n",
        "    self.bruto = self.x\n",
        "    self.x -= self.x*0.11 + self.x*0.08 + self.x*0.05\n",
        "    self.ir = self.x*0.11\n",
        "    self.inss = self.x*0.08\n",
        "    self.sind = self.x*0.05\n",
        "  def calc(self):\n",
        "    print(\"Total do salário BRUTO: R%{}\".format(self.bruto))\n",
        "    print(\"\\nIR = R%{}\".format(self.ir))\n",
        "    print(\"\\nINSS = R%{}\".format(self.inss))\n",
        "    print(\"\\nSindicato = R%{}\".format(self.sind))\n",
        "    print(\"\\nSalário líquido = R%{}\".format(self.x))\n",
        "\n",
        "i = float(input(\"Quanto você ganha por hora? \"))\n",
        "u = float(input(\"Quantas horas por mês você trabalha? \"))\n",
        "s = salario(u, i)\n",
        "s.calc()"
      ],
      "metadata": {
        "colab": {
          "base_uri": "https://localhost:8080/"
        },
        "id": "uwv-pmplyxzi",
        "outputId": "b42dc68f-084e-44ef-a7f7-5219e56087ad"
      },
      "execution_count": null,
      "outputs": [
        {
          "output_type": "stream",
          "name": "stdout",
          "text": [
            "Quanto você ganha por hora? 5.5\n",
            "Quantas horas por dia você trabalha? 240\n",
            "Total do salário BRUTO: R%1320.0\n",
            "\n",
            "IR = R%110.352\n",
            "\n",
            "INSS = R%80.256\n",
            "\n",
            "Sindicato = R%50.160000000000004\n",
            "\n",
            "Salário líquido = R%1003.2\n"
          ]
        }
      ]
    },
    {
      "cell_type": "markdown",
      "source": [
        "Questão 5"
      ],
      "metadata": {
        "id": "VGsyuXGc1eWb"
      }
    },
    {
      "cell_type": "code",
      "source": [
        "import math as t\n",
        "\n",
        "class loja:\n",
        "  def __init__(self, tamanho):\n",
        "    self.tamanho = tamanho\n",
        "  def calc(self):\n",
        "    self.litros = self.tamanho/3\n",
        "    self.latas = self.litros/18\n",
        "    self.preco = t.ceil(self.latas)*80\n",
        "    if self.latas < 1:\n",
        "      self.latas = 1\n",
        "    print(\"Preço: {}\".format(self.preco))\n",
        "    print(\"Latas: {}\".format(self.latas))\n",
        "\n",
        "x = float(input(\"Qual o tamanho em metros quadrados do local? \"))\n",
        "l = loja(x)\n",
        "l.calc()"
      ],
      "metadata": {
        "colab": {
          "base_uri": "https://localhost:8080/"
        },
        "id": "Y1IDh6Zg1fmi",
        "outputId": "bf27444c-5268-47f8-9c85-c4387722f9de"
      },
      "execution_count": null,
      "outputs": [
        {
          "output_type": "stream",
          "name": "stdout",
          "text": [
            "Qual o tamanho em metros quadrados do local?5\n",
            "Preço: 80\n",
            "Latas: 1\n"
          ]
        }
      ]
    },
    {
      "cell_type": "markdown",
      "source": [
        "Questão 6"
      ],
      "metadata": {
        "id": "1sqM3mMiAbeg"
      }
    },
    {
      "cell_type": "code",
      "source": [
        "class maior:\n",
        "  def __init__(self, x, y):\n",
        "    self.x=x\n",
        "    self.y=y\n",
        "  def maior(self):\n",
        "    if self.x > self.y:\n",
        "      print(\"x é o maior\")\n",
        "    else:\n",
        "      print(\"y é o maior\")\n",
        "\n",
        "u = float(input(\"Digite o valor de x\"))\n",
        "o = float(input(\"Digite o valor de y\"))\n",
        "\n",
        "c=maior(u,o)\n",
        "c.maior()"
      ],
      "metadata": {
        "colab": {
          "base_uri": "https://localhost:8080/"
        },
        "id": "kc8oSl2vHY9j",
        "outputId": "664fdfcd-c33b-4753-d3ba-5761ac36d4e1"
      },
      "execution_count": null,
      "outputs": [
        {
          "output_type": "stream",
          "name": "stdout",
          "text": [
            "Digite o valor de x1\n",
            "Digite o valor de y2\n",
            "y é o maior\n"
          ]
        }
      ]
    },
    {
      "cell_type": "markdown",
      "source": [
        "Questão 7"
      ],
      "metadata": {
        "id": "KKXkVnhrJ2o_"
      }
    },
    {
      "cell_type": "code",
      "source": [
        "class pos:\n",
        "  def __init__(self, x):\n",
        "    self.x=x\n",
        "  def positivo(self):\n",
        "    if self.x > 0:\n",
        "      print(\"É positivo\")\n",
        "    elif self.x < 0:\n",
        "      print(\"É negativo\")\n",
        "    else:\n",
        "      print(\"É zero\")\n",
        "\n",
        "u = float(input(\"Digite o valor de x\"))\n",
        "\n",
        "c=pos(u)\n",
        "c.positivo()"
      ],
      "metadata": {
        "colab": {
          "base_uri": "https://localhost:8080/"
        },
        "id": "C7feZvbKJ53k",
        "outputId": "adf16db0-2f39-4030-a4aa-cb9de6de6fac"
      },
      "execution_count": null,
      "outputs": [
        {
          "output_type": "stream",
          "name": "stdout",
          "text": [
            "Digite o valor de x0\n",
            "É zero\n"
          ]
        }
      ]
    },
    {
      "cell_type": "markdown",
      "source": [
        "Questão 8"
      ],
      "metadata": {
        "id": "KaCiG7PsKn8w"
      }
    },
    {
      "cell_type": "code",
      "source": [
        "%reset\n",
        "class Numero_maior:\n",
        "  l=[]\n",
        "  maior=0\n",
        "  def __init__(self, x, y, z):\n",
        "    self.x=x\n",
        "    self.y=y\n",
        "    self.z=z\n",
        "    self.l.append(self.x)\n",
        "    self.l.append(self.y)\n",
        "    self.l.append(self.z)\n",
        "  def numero_maior(self):\n",
        "    for z in range(len(self.l)):\n",
        "      if self.l[z]>self.l[z-1]:\n",
        "        self.maior = self.l[z]\n",
        "    print(\"O maior é o {}\".format(self.maior))\n",
        "\n",
        "u = float(input(\"Digite o valor 1\"))\n",
        "o = float(input(\"Digite o valor 2\"))\n",
        "y = float(input(\"Digite o valor 3\"))\n",
        "c=Numero_maior(u,o,y)\n",
        "c.numero_maior()"
      ],
      "metadata": {
        "colab": {
          "base_uri": "https://localhost:8080/"
        },
        "id": "gyaZS9SnKqtT",
        "outputId": "32cb8bf3-7d30-4a85-e047-5a92ca520045"
      },
      "execution_count": null,
      "outputs": [
        {
          "output_type": "stream",
          "name": "stdout",
          "text": [
            "Once deleted, variables cannot be recovered. Proceed (y/[n])? y\n",
            "Digite o valor 11\n",
            "Digite o valor 22\n",
            "Digite o valor 33\n",
            "O maior é o 3.0\n"
          ]
        }
      ]
    },
    {
      "cell_type": "markdown",
      "source": [
        "Questão 9"
      ],
      "metadata": {
        "id": "LyCZHzwJ8YW2"
      }
    },
    {
      "cell_type": "code",
      "source": [
        "import math\n",
        "class grau:\n",
        "  a = 0.0\n",
        "  b = 0.0\n",
        "  c = 0.0\n",
        "  def __init__(self, a, b, c):\n",
        "    self.a = a\n",
        "    self.b = b\n",
        "    self.c = c\n",
        "  \n",
        "  def calc(self):\n",
        "    if self.a == 0:\n",
        "      print(\"'A' não pode ser zero\")\n",
        "    else:\n",
        "      self.l = self.a\n",
        "      self.k = self.b\n",
        "      self.h = self.c\n",
        "      delta = (self.k** 2)- (4*self.l*self.h)\n",
        "      if delta < 0:\n",
        "        print(\"Delta negativo, impossivel continuar, pois não existem raízes reais\")\n",
        "      elif delta == 0:\n",
        "        x3 = (-self.k+delta**0.5)/2*self.l\n",
        "        print(\"Tem apenas uma raiz: {}\".format(x3))\n",
        "      else:\n",
        "        x1 = (-self.k+delta**0.5)/2*self.l\n",
        "        x2 = (-self.k-delta**0.5)/2*self.l\n",
        "\n",
        "        print(\"X1 é: {}\".format(x1))\n",
        "        print(\"X2 é: {}\".format(x2))\n",
        "\n",
        "a = float(input(\"Informe o valor de A: \"))\n",
        "b = float(input(\"Informe o valor de B: \"))\n",
        "c = float(input(\"Informe o valor de C: \"))\n",
        "g=grau(a,b,c)\n",
        "g.calc()"
      ],
      "metadata": {
        "colab": {
          "base_uri": "https://localhost:8080/"
        },
        "id": "VZnqNy7I8aZf",
        "outputId": "bb2f7e04-8234-462e-d209-ddfe9de4978e"
      },
      "execution_count": null,
      "outputs": [
        {
          "output_type": "stream",
          "name": "stdout",
          "text": [
            "Informe o valor de A1\n",
            "Informe o valor de B5\n",
            "Informe o valor de C3\n",
            "X1 é: -0.6972243622680054\n",
            "X2 é: -4.302775637731995\n"
          ]
        }
      ]
    },
    {
      "cell_type": "markdown",
      "source": [
        "Questão 10"
      ],
      "metadata": {
        "id": "Q2leyN6EKMw_"
      }
    },
    {
      "cell_type": "code",
      "source": [
        "class par:\n",
        "  def __init__(self):self.a = float(input(\"Digite o número\"))\n",
        "  def impar(self):print(\"É par\") if self.a%2 == 0 else print(\"É impar\")\n",
        "c = par()\n",
        "c.impar()"
      ],
      "metadata": {
        "colab": {
          "base_uri": "https://localhost:8080/"
        },
        "id": "tlkfuKmtKOMl",
        "outputId": "6fe59c65-fd4f-49a8-bef4-da77e67dc5dd"
      },
      "execution_count": 13,
      "outputs": [
        {
          "output_type": "stream",
          "name": "stdout",
          "text": [
            "Digite o número5\n",
            "É impar\n"
          ]
        }
      ]
    },
    {
      "cell_type": "markdown",
      "source": [
        "Questão 11"
      ],
      "metadata": {
        "id": "QdEdfIt0MMlG"
      }
    },
    {
      "cell_type": "code",
      "source": [
        "class crime:\n",
        "  def __init__(self, x):\n",
        "    self.x = x\n",
        "  def perfuntas(self):\n",
        "    if self.x == 2:\n",
        "      print(\"É SUSPEITO.\")\n",
        "    elif self.x == 3 or self.x == 4:\n",
        "     print(\"É CÚMPLICE\")\n",
        "    elif self.x == 5:\n",
        "      print(\"É O ASSASSINO. PRENDAM ELE(A) ( -_•)╦̵̵̿╤─ (⊙_⊙)\")\n",
        "    else:\n",
        "      print(\"inocente\")\n",
        "\n",
        "s = int(input(\"Telefonou para a vítima? \\n1 - sim\\n0 - não: \"))\n",
        "s2 = int(input(\"Esteve no local do crime? \\n1 - sim\\n0 - não: \"))\n",
        "s3 = int(input(\"Mora perto da vítima? \\n1 - sim\\n0 - não: \"))\n",
        "s4 = int(input(\"Devia para a vítima? \\n1 - sim\\n0 - não: \"))\n",
        "s5 = int(input(\"Já trabalhou com a vítima? \\n1 - sim\\n0 - não: \"))\n",
        "a = s + s2 + s3 + s4 + s5\n",
        "\n",
        "p = crime(a)\n",
        "p.perfuntas()"
      ],
      "metadata": {
        "colab": {
          "base_uri": "https://localhost:8080/"
        },
        "id": "BMEuN8oeMPVc",
        "outputId": "8d988382-e42a-4888-c74b-7f4f51e6e3f9"
      },
      "execution_count": null,
      "outputs": [
        {
          "output_type": "stream",
          "name": "stdout",
          "text": [
            "Telefonou para a vítima? \n",
            "1 - sim\n",
            "0 - não: 1\n",
            "Esteve no local do crime? \n",
            "1 - sim\n",
            "0 - não: 1\n",
            "Mora perto da vítima? \n",
            "1 - sim\n",
            "0 - não: 1\n",
            "Devia para a vítima? \n",
            "1 - sim\n",
            "0 - não: 1\n",
            "Já trabalhou com a vítima? \n",
            "1 - sim\n",
            "0 - não: 1\n",
            "É O ASSASSINO. PRENDAM ELE(A) ( -_•)╦̵̵̿╤─ (⊙_⊙)\n"
          ]
        }
      ]
    },
    {
      "cell_type": "markdown",
      "source": [
        "Questão 12"
      ],
      "metadata": {
        "id": "KqvZdbOHTaK-"
      }
    },
    {
      "cell_type": "code",
      "source": [
        "class doze:\n",
        "  def __init__(self, litros, tipo):\n",
        "    self.litros = litros\n",
        "    self.tipo = tipo\n",
        "  def calc(self):\n",
        "    if self.tipo == 'A':\n",
        "      if self.litros > 20:\n",
        "        total = self.litros * 1.9 - self.litros*0.05\n",
        "        print(f'Seu valor a pagar é {total}')\n",
        "      elif self.litros <= 20:\n",
        "        total = self.litros * 2.5 - self.litros*0.03\n",
        "        print(f'Seu valor a pagar é {total}')\n",
        "      else:\n",
        "        total = self.litros * 1.9\n",
        "        print(f'Seu valor a pagar é {total}')\n",
        "\n",
        "\n",
        "    elif self.tipo == 'G':\n",
        "      if self.litros > 20:\n",
        "        total = self.litros * 2.5 - self.litros*0.06\n",
        "        print(f'Seu valor a pagar é {total}')\n",
        "      elif self.litros <= 20:\n",
        "        total = self.litros * 2.5 - self.litros*0.04\n",
        "        print(f'Seu valor a pagar é {total}')\n",
        "      else:\n",
        "        total = self.litros * 2.5\n",
        "        print(f'Seu valor a pagar é {total}')\n",
        "\n",
        "a = doze(5,'G')\n",
        "a.calc()"
      ],
      "metadata": {
        "colab": {
          "base_uri": "https://localhost:8080/"
        },
        "id": "FxxvSTDjTcL0",
        "outputId": "5e1ba53b-5a2a-42db-e97a-799d414e6beb"
      },
      "execution_count": null,
      "outputs": [
        {
          "output_type": "stream",
          "name": "stdout",
          "text": [
            "Seu valor a pagar é 12.3\n"
          ]
        }
      ]
    },
    {
      "cell_type": "markdown",
      "source": [
        "Questão 13"
      ],
      "metadata": {
        "id": "KfaIT8nBXVK1"
      }
    },
    {
      "cell_type": "code",
      "source": [
        "class vetores:\n",
        "  x = []\n",
        "  par = []\n",
        "  impar = []\n",
        "  def atribuir(self):\n",
        "    for n in range(20):\n",
        "      g = float(input(\"Digite o valor {}: \".format(n+1)))\n",
        "      self.x.append(g) \n",
        "    #for l in range(len(h)):\n",
        "     # x[l] = h[l]\n",
        "  def uso(self):\n",
        "    for i in range(20):\n",
        "      if self.x[i]%2 == 0:\n",
        "        self.par.append(self.x[i])\n",
        "      else:\n",
        "        self.impar.append(self.x[i])\n",
        "    print(f'valores pares: {self.par}')\n",
        "    print(f'valores impares: {self.impar}')\n",
        "v = vetores()\n",
        "v.atribuir()\n",
        "v.uso()"
      ],
      "metadata": {
        "colab": {
          "base_uri": "https://localhost:8080/"
        },
        "id": "515NBj6PXW6m",
        "outputId": "33259999-7056-4a11-d5a0-f3164e125b98"
      },
      "execution_count": null,
      "outputs": [
        {
          "output_type": "stream",
          "name": "stdout",
          "text": [
            "Digite o valor 11\n",
            "Digite o valor 22\n",
            "Digite o valor 35\n",
            "Digite o valor 44\n",
            "Digite o valor 53\n",
            "valores pares: [2.0, 4.0]\n",
            "valores impares: [1.0, 5.0, 3.0]\n"
          ]
        }
      ]
    },
    {
      "cell_type": "markdown",
      "source": [
        "Questão 14"
      ],
      "metadata": {
        "id": "p-mPrauocQlN"
      }
    },
    {
      "cell_type": "code",
      "source": [
        "#Tentei usar herança e não deu certo. Gostaria de saber o porque na próxima aula ou, se puder, me manda um email da explicação por favor, prof. Agradecido!\n",
        "class notas:\n",
        "  nota = [0,0,0,0]\n",
        "  \n",
        "class alunos(notas):\n",
        "  aluno = []\n",
        "  def atribui(self):\n",
        "    aluno = []\n",
        "    for x in range(3):\n",
        "      aluno.append(notas())\n",
        "      for y in range(4):\n",
        "        self.aluno[x].nota[y].append(float(input(\"Digite a nota {} do aluno {}: \".format(y,x))))\n",
        "\n",
        "  def maior(self):\n",
        "    numero = 0\n",
        "    for x in range(3):\n",
        "      self.aluno[x]\n",
        "      for y in range(4):\n",
        "        if self.aluno[x].nota[y] > 7.0:\n",
        "          numero+=1\n",
        "    print(f'O número de alunos com notas maiores que 7 é: {numero}')\n",
        "\n",
        "t = alunos()\n",
        "t.atribui()\n",
        "t.maior()"
      ],
      "metadata": {
        "colab": {
          "base_uri": "https://localhost:8080/",
          "height": 348
        },
        "id": "O6zdZlk7cSbl",
        "outputId": "9bb8e1dc-5204-4d35-b660-ff1f808bb194"
      },
      "execution_count": null,
      "outputs": [
        {
          "output_type": "error",
          "ename": "IndexError",
          "evalue": "ignored",
          "traceback": [
            "\u001b[0;31m---------------------------------------------------------------------------\u001b[0m",
            "\u001b[0;31mIndexError\u001b[0m                                Traceback (most recent call last)",
            "\u001b[0;32m<ipython-input-130-7ccda8271e6b>\u001b[0m in \u001b[0;36m<module>\u001b[0;34m\u001b[0m\n\u001b[1;32m     20\u001b[0m \u001b[0;34m\u001b[0m\u001b[0m\n\u001b[1;32m     21\u001b[0m \u001b[0mt\u001b[0m \u001b[0;34m=\u001b[0m \u001b[0malunos\u001b[0m\u001b[0;34m(\u001b[0m\u001b[0;34m)\u001b[0m\u001b[0;34m\u001b[0m\u001b[0;34m\u001b[0m\u001b[0m\n\u001b[0;32m---> 22\u001b[0;31m \u001b[0mt\u001b[0m\u001b[0;34m.\u001b[0m\u001b[0matribui\u001b[0m\u001b[0;34m(\u001b[0m\u001b[0;34m)\u001b[0m\u001b[0;34m\u001b[0m\u001b[0;34m\u001b[0m\u001b[0m\n\u001b[0m\u001b[1;32m     23\u001b[0m \u001b[0mt\u001b[0m\u001b[0;34m.\u001b[0m\u001b[0mmaior\u001b[0m\u001b[0;34m(\u001b[0m\u001b[0;34m)\u001b[0m\u001b[0;34m\u001b[0m\u001b[0;34m\u001b[0m\u001b[0m\n",
            "\u001b[0;32m<ipython-input-130-7ccda8271e6b>\u001b[0m in \u001b[0;36matribui\u001b[0;34m(self)\u001b[0m\n\u001b[1;32m      9\u001b[0m       \u001b[0maluno\u001b[0m\u001b[0;34m.\u001b[0m\u001b[0mappend\u001b[0m\u001b[0;34m(\u001b[0m\u001b[0mnotas\u001b[0m\u001b[0;34m(\u001b[0m\u001b[0;34m)\u001b[0m\u001b[0;34m)\u001b[0m\u001b[0;34m\u001b[0m\u001b[0;34m\u001b[0m\u001b[0m\n\u001b[1;32m     10\u001b[0m       \u001b[0;32mfor\u001b[0m \u001b[0my\u001b[0m \u001b[0;32min\u001b[0m \u001b[0mrange\u001b[0m\u001b[0;34m(\u001b[0m\u001b[0;36m4\u001b[0m\u001b[0;34m)\u001b[0m\u001b[0;34m:\u001b[0m\u001b[0;34m\u001b[0m\u001b[0;34m\u001b[0m\u001b[0m\n\u001b[0;32m---> 11\u001b[0;31m         \u001b[0mself\u001b[0m\u001b[0;34m.\u001b[0m\u001b[0maluno\u001b[0m\u001b[0;34m[\u001b[0m\u001b[0mx\u001b[0m\u001b[0;34m]\u001b[0m\u001b[0;34m.\u001b[0m\u001b[0mnota\u001b[0m\u001b[0;34m[\u001b[0m\u001b[0my\u001b[0m\u001b[0;34m]\u001b[0m\u001b[0;34m.\u001b[0m\u001b[0mappend\u001b[0m\u001b[0;34m(\u001b[0m\u001b[0mfloat\u001b[0m\u001b[0;34m(\u001b[0m\u001b[0minput\u001b[0m\u001b[0;34m(\u001b[0m\u001b[0;34m\"Digite a nota {} do aluno {}: \"\u001b[0m\u001b[0;34m.\u001b[0m\u001b[0mformat\u001b[0m\u001b[0;34m(\u001b[0m\u001b[0my\u001b[0m\u001b[0;34m,\u001b[0m\u001b[0mx\u001b[0m\u001b[0;34m)\u001b[0m\u001b[0;34m)\u001b[0m\u001b[0;34m)\u001b[0m\u001b[0;34m)\u001b[0m\u001b[0;34m\u001b[0m\u001b[0;34m\u001b[0m\u001b[0m\n\u001b[0m\u001b[1;32m     12\u001b[0m   \u001b[0;32mdef\u001b[0m \u001b[0mmaior\u001b[0m\u001b[0;34m(\u001b[0m\u001b[0mself\u001b[0m\u001b[0;34m)\u001b[0m\u001b[0;34m:\u001b[0m\u001b[0;34m\u001b[0m\u001b[0;34m\u001b[0m\u001b[0m\n\u001b[1;32m     13\u001b[0m     \u001b[0mnumero\u001b[0m \u001b[0;34m=\u001b[0m \u001b[0;36m0\u001b[0m\u001b[0;34m\u001b[0m\u001b[0;34m\u001b[0m\u001b[0m\n",
            "\u001b[0;31mIndexError\u001b[0m: list index out of range"
          ]
        }
      ]
    },
    {
      "cell_type": "code",
      "source": [
        "class uai:\n",
        "  ALUNOS = 10\n",
        "  NOTAS = 4\n",
        "  medias = []\n",
        "  media_sete = 0\n",
        "  def uso(self):\n",
        "    \n",
        "    for i in range(self.ALUNOS):\n",
        "      self.media = 0\n",
        "      for j in range(self.NOTAS):\n",
        "          self.media += float(input(f\"Digite a nota {j+1} do aluno {i+1}: \"))\n",
        "      self.media /= self.NOTAS\n",
        "      self.medias.append(self.media)\n",
        "      if self.media >= 7:\n",
        "         self.media_sete += 1\n",
        "    print(\"\\nA média dos alunos foi:\")\n",
        "    for i in range(self.ALUNOS):\n",
        "      print(f\"Aluno {i+1}: {self.medias[i]}\")\n",
        "\n",
        "    print(f\"\\n{self.media_sete} alunos tiveram média maior ou igual a 7.\")\n",
        "\n",
        "epa = uai()\n",
        "epa.uso()"
      ],
      "metadata": {
        "colab": {
          "base_uri": "https://localhost:8080/"
        },
        "id": "6Soex9oyomh9",
        "outputId": "76c7e374-bed7-4b3b-fbb2-66677e5b3351"
      },
      "execution_count": null,
      "outputs": [
        {
          "output_type": "stream",
          "name": "stdout",
          "text": [
            "Digite a nota 1 do aluno 1: 9\n",
            "Digite a nota 2 do aluno 1: 8\n",
            "Digite a nota 1 do aluno 2: 5\n",
            "Digite a nota 2 do aluno 2: 2\n",
            "\n",
            "A média dos alunos foi:\n",
            "Aluno 1: 8.5\n",
            "Aluno 2: 3.5\n",
            "\n",
            "1 alunos tiveram média maior ou igual a 7.\n"
          ]
        }
      ]
    },
    {
      "cell_type": "markdown",
      "source": [
        "Questão 15"
      ],
      "metadata": {
        "id": "4sLoB9vUrVfN"
      }
    },
    {
      "cell_type": "code",
      "source": [
        "class muitos_quadrados:\n",
        "  A = []\n",
        "  soma=0\n",
        "  def somar(self):\n",
        "    for numero in range(0, 10):\n",
        "      self.A.append(int(input(f'Digite o {numero}º número: ')))\n",
        "      self.soma = self.soma + (self.A[len(self.A)-1]**2)\n",
        "    print(\"Soma dos quadrados: \" + str(self.soma))\n",
        "x = muitos_quadrados()\n",
        "x.somar()"
      ],
      "metadata": {
        "colab": {
          "base_uri": "https://localhost:8080/"
        },
        "id": "I6a0oSMfrpeW",
        "outputId": "35e9f9d8-a4be-4ea8-8ab2-edffa806b17b"
      },
      "execution_count": null,
      "outputs": [
        {
          "output_type": "stream",
          "name": "stdout",
          "text": [
            "Digite o 0º número: 5\n",
            "Digite o 1º número: 5\n",
            "Digite o 2º número: 2\n",
            "Digite o 3º número: 6\n",
            "Digite o 4º número: 7\n",
            "Digite o 5º número: 2\n",
            "Digite o 6º número: 3\n",
            "Digite o 7º número: 6\n",
            "Digite o 8º número: 45\n",
            "Digite o 9º número: 8\n",
            "Soma dos quadrados: 2277\n"
          ]
        }
      ]
    },
    {
      "cell_type": "markdown",
      "source": [
        "QUESTÃO 16!!!!!!!!!!!!!!"
      ],
      "metadata": {
        "id": "x5_XA4sqwBTt"
      }
    },
    {
      "cell_type": "code",
      "source": [
        "class ultima:\n",
        "  a = []\n",
        "  d = 0\n",
        "  q = 0\n",
        "  t = 0\n",
        "  maiores = 0\n",
        "  menores = 0\n",
        "  def loop(self):\n",
        "    while True:\n",
        "      if self.d == -1:\n",
        "        break\n",
        "      else:  \n",
        "        self.d=float(input(\"Digite o próximo valou ou -1 para sair: \"))\n",
        "        self.t+=self.d\n",
        "        self.a.append(self.d)\n",
        "        self.q +=1\n",
        "    self.a.pop()\n",
        "    self.t+=1\n",
        "    self.k = self.t/self.q\n",
        "    for m in range(len(self.a)):\n",
        "      if self.a[m] > self.k:\n",
        "       self.maiores += 1\n",
        "       if self.a[m] < 7:\n",
        "        self.menores += 1\n",
        "      if self.a[m] < 7:\n",
        "        self.menores += 1\n",
        "    \n",
        "  def mostrar(self):\n",
        "    print(f'Quantidade de valores lidos: {len(self.a)}\\n')\n",
        "    print(\"Elementos na ordem de entrada\")\n",
        "    print(self.a)\n",
        "    print(\"\\nElementos na ordem invertida:\")\n",
        "    print(self.a[::-1])\n",
        "    print(f'Soma dos valores inseridos {self.t}')\n",
        "    print(f'Média dos valores inseridos {self.k}')\n",
        "    print(f'Quantidade de valores acima da média: {self.maiores}')\n",
        "    print(f'Quantidade de valores abaixo de 7: {self.menores-1}')\n",
        "    print(\"Adeus!\")\n",
        "\n",
        "amem = ultima()\n",
        "amem.loop()\n",
        "amem.mostrar()"
      ],
      "metadata": {
        "colab": {
          "base_uri": "https://localhost:8080/"
        },
        "id": "81AMijJVwEHQ",
        "outputId": "e3220213-740d-49af-e278-316f46a5ec01"
      },
      "execution_count": null,
      "outputs": [
        {
          "output_type": "stream",
          "name": "stdout",
          "text": [
            "Digite o próximo valou ou -1 para sair: 5\n",
            "Digite o próximo valou ou -1 para sair: 9\n",
            "Digite o próximo valou ou -1 para sair: 7\n",
            "Digite o próximo valou ou -1 para sair: 1\n",
            "Digite o próximo valou ou -1 para sair: -1\n",
            "Quantidade de valores lidos: 4\n",
            "\n",
            "Elementos na ordem de entrada\n",
            "[5.0, 9.0, 7.0, 1.0]\n",
            "\n",
            "Elementos na ordem invertida:\n",
            "[1.0, 7.0, 9.0, 5.0]\n",
            "Soma dos valores inseridos 22.0\n",
            "Média dos valores inseridos 4.4\n",
            "Quantidade de valores acima da média: 3\n",
            "Quantidade de valores abaixo de 7: 2\n",
            "Adeus!\n"
          ]
        }
      ]
    }
  ]
}